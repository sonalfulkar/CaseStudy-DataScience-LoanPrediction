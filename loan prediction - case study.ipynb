{
 "cells": [
  {
   "cell_type": "markdown",
   "metadata": {},
   "source": [
    "# Loan Prediction - Case Study"
   ]
  },
  {
   "cell_type": "code",
   "execution_count": 1,
   "metadata": {},
   "outputs": [],
   "source": [
    "# Loading required Packages\n",
    "import pandas as pd \n",
    "import numpy as np                     # For mathematical calculations \n",
    "import seaborn as sns                  # For data visualization \n",
    "import matplotlib.pyplot as plt        # For plotting graphs \n",
    "%matplotlib inline \n",
    "from warnings import simplefilter      # To ignore any warnings warnings.filterwarnings(\"ignore\")\n",
    "\n",
    "# suppress Future Warnings\n",
    "simplefilter(action='ignore', category=FutureWarning)"
   ]
  },
  {
   "cell_type": "code",
   "execution_count": 2,
   "metadata": {},
   "outputs": [],
   "source": [
    "# load the train and test data\n",
    "train = pd.read_csv(\"train_loan_prediction.csv\") \n",
    "test = pd.read_csv(\"test_loan_prediction.csv\")\n",
    "\n",
    "# back it up - we are planning to change some of the columns for our analysis\n",
    "train_original=train.copy() \n",
    "test_original=test.copy()"
   ]
  },
  {
   "cell_type": "code",
   "execution_count": 3,
   "metadata": {},
   "outputs": [
    {
     "data": {
      "text/plain": [
       "(Index(['Loan_ID', 'Gender', 'Married', 'Dependents', 'Education',\n",
       "        'Self_Employed', 'ApplicantIncome', 'CoapplicantIncome', 'LoanAmount',\n",
       "        'Loan_Amount_Term', 'Credit_History', 'Property_Area', 'Loan_Status'],\n",
       "       dtype='object'),\n",
       " Index(['Loan_ID', 'Gender', 'Married', 'Dependents', 'Education',\n",
       "        'Self_Employed', 'ApplicantIncome', 'CoapplicantIncome', 'LoanAmount',\n",
       "        'Loan_Amount_Term', 'Credit_History', 'Property_Area'],\n",
       "       dtype='object'))"
      ]
     },
     "execution_count": 3,
     "metadata": {},
     "output_type": "execute_result"
    }
   ],
   "source": [
    "# lets have a look at a dataset\n",
    "train.columns, test.columns"
   ]
  },
  {
   "cell_type": "code",
   "execution_count": 4,
   "metadata": {},
   "outputs": [
    {
     "data": {
      "text/plain": [
       "(Loan_ID               object\n",
       " Gender                object\n",
       " Married               object\n",
       " Dependents            object\n",
       " Education             object\n",
       " Self_Employed         object\n",
       " ApplicantIncome        int64\n",
       " CoapplicantIncome    float64\n",
       " LoanAmount           float64\n",
       " Loan_Amount_Term     float64\n",
       " Credit_History       float64\n",
       " Property_Area         object\n",
       " Loan_Status           object\n",
       " dtype: object, Loan_ID               object\n",
       " Gender                object\n",
       " Married               object\n",
       " Dependents            object\n",
       " Education             object\n",
       " Self_Employed         object\n",
       " ApplicantIncome        int64\n",
       " CoapplicantIncome      int64\n",
       " LoanAmount           float64\n",
       " Loan_Amount_Term     float64\n",
       " Credit_History       float64\n",
       " Property_Area         object\n",
       " dtype: object)"
      ]
     },
     "execution_count": 4,
     "metadata": {},
     "output_type": "execute_result"
    }
   ],
   "source": [
    "train.dtypes, test.dtypes"
   ]
  },
  {
   "cell_type": "code",
   "execution_count": 5,
   "metadata": {},
   "outputs": [
    {
     "data": {
      "text/plain": [
       "((614, 13), (367, 12))"
      ]
     },
     "execution_count": 5,
     "metadata": {},
     "output_type": "execute_result"
    }
   ],
   "source": [
    "train.shape, test.shape"
   ]
  },
  {
   "cell_type": "code",
   "execution_count": 6,
   "metadata": {},
   "outputs": [
    {
     "data": {
      "text/plain": [
       "Y    422\n",
       "N    192\n",
       "Name: Loan_Status, dtype: int64"
      ]
     },
     "execution_count": 6,
     "metadata": {},
     "output_type": "execute_result"
    }
   ],
   "source": [
    "# target variable - lets find categories and the frequency of it \n",
    "train['Loan_Status'].value_counts()"
   ]
  },
  {
   "cell_type": "code",
   "execution_count": 7,
   "metadata": {},
   "outputs": [
    {
     "data": {
      "text/plain": [
       "Y    0.687296\n",
       "N    0.312704\n",
       "Name: Loan_Status, dtype: float64"
      ]
     },
     "execution_count": 7,
     "metadata": {},
     "output_type": "execute_result"
    }
   ],
   "source": [
    "# Normalize can be set to True to get percent proportions instead of number \n",
    "train['Loan_Status'].value_counts(normalize=True)"
   ]
  },
  {
   "cell_type": "code",
   "execution_count": 8,
   "metadata": {},
   "outputs": [
    {
     "data": {
      "text/plain": [
       "<matplotlib.axes._subplots.AxesSubplot at 0xcd095f0>"
      ]
     },
     "execution_count": 8,
     "metadata": {},
     "output_type": "execute_result"
    },
    {
     "data": {
      "image/png": "[encoded data removed]",
      "text/plain": [
       "<Figure size 432x288 with 1 Axes>"
      ]
     },
     "metadata": {
      "needs_background": "light"
     },
     "output_type": "display_data"
    }
   ],
   "source": [
    "# plot the bar to understand the proportion\n",
    "train['Loan_Status'].value_counts().plot.bar()"
   ]
  },
  {
   "cell_type": "markdown",
   "metadata": {},
   "source": [
    "# Visualize each of the feature to understand the applicant's statistics\n",
    "Categorical features: features with distinct categories (Gender, Married, Self_Employed, Credit_History, Loan_Status)\n",
    "Ordinal features: features with some wide varierty of categories (Dependents, Education, Property_Area)\n",
    "Numerical features: features with numers (ApplicantIncome, CoapplicantIncome, LoanAmount, Loan_Amount_Term)"
   ]
  },
  {
   "cell_type": "code",
   "execution_count": 9,
   "metadata": {},
   "outputs": [
    {
     "data": {
      "image/png": "[encoded data removed]",
      "text/plain": [
       "<Figure size 720x432 with 4 Axes>"
      ]
     },
     "metadata": {
      "needs_background": "light"
     },
     "output_type": "display_data"
    },
    {
     "data": {
      "text/plain": [
       "<Figure size 432x288 with 0 Axes>"
      ]
     },
     "metadata": {},
     "output_type": "display_data"
    }
   ],
   "source": [
    "# categorical variables plots\n",
    "plt.figure()\n",
    "plt.subplot(221)\n",
    "train['Gender'].value_counts(normalize=True).plot.bar(figsize=(10,6), title='Gender', color='Blue')\n",
    "plt.subplot(222)\n",
    "train['Married'].value_counts(normalize=True).plot.bar(title='Married', color='Red')\n",
    "plt.subplot(223)\n",
    "train['Self_Employed'].value_counts(normalize=True).plot.bar(title='Self Employed', color='Orange')\n",
    "plt.subplot(224)\n",
    "train['Credit_History'].value_counts(normalize=True).plot.bar(title='Credit History', color='Green')\n",
    "\n",
    "plt.tight_layout()\n",
    "plt.show()\n",
    "# clear figure so that next one can be rendered seamlessly\n",
    "plt.clf()"
   ]
  },
  {
   "cell_type": "markdown",
   "metadata": {},
   "source": [
    "Observations from above figure:\n",
    "- 80% of applicants are Male\n",
    "- 65% of applicants are Married\n",
    "- 10% applicants are self-employed\n",
    "- mroe than 80% have clean credit history (no previous debts)"
   ]
  },
  {
   "cell_type": "code",
   "execution_count": 10,
   "metadata": {},
   "outputs": [
    {
     "data": {
      "image/png": "[encoded data removed]",
      "text/plain": [
       "<Figure size 1080x360 with 3 Axes>"
      ]
     },
     "metadata": {
      "needs_background": "light"
     },
     "output_type": "display_data"
    },
    {
     "data": {
      "text/plain": [
       "<Figure size 432x288 with 0 Axes>"
      ]
     },
     "metadata": {},
     "output_type": "display_data"
    }
   ],
   "source": [
    "# ordinal variables plots\n",
    "plt.figure()\n",
    "plt.subplot(131)\n",
    "train['Dependents'].value_counts(normalize=True).plot.bar(figsize=(15,5), title='Dependents')\n",
    "plt.subplot(132)\n",
    "train['Education'].value_counts(normalize=True).plot.bar(title='Education')\n",
    "plt.subplot(133)\n",
    "train['Property_Area'].value_counts(normalize=True).plot.bar(title='Property Area')\n",
    "plt.show()\n",
    "plt.clf()"
   ]
  },
  {
   "cell_type": "markdown",
   "metadata": {},
   "source": [
    "Observations from above figure:\n",
    "- more than 55% of applicants have no kids\n",
    "- 75% of applicants are Graduates\n",
    "- Loans related to Semi-urban properties are mostly applied "
   ]
  },
  {
   "cell_type": "code",
   "execution_count": 11,
   "metadata": {},
   "outputs": [
    {
     "data": {
      "image/png": "[encoded data removed]",
      "text/plain": [
       "<Figure size 1152x360 with 2 Axes>"
      ]
     },
     "metadata": {
      "needs_background": "light"
     },
     "output_type": "display_data"
    },
    {
     "data": {
      "text/plain": [
       "<Figure size 432x288 with 0 Axes>"
      ]
     },
     "metadata": {},
     "output_type": "display_data"
    }
   ],
   "source": [
    "# Numerical variables plot - bar plots are useful for categorical features; lets try box plot & seaborn's distplot\n",
    "plt.figure()\n",
    "plt.subplot(121)\n",
    "sns.distplot(train['ApplicantIncome'])\n",
    "plt.subplot(122)\n",
    "train['ApplicantIncome'].plot.box(figsize=(16,5), title='Applicant Income', color='Blue')\n",
    "plt.show()\n",
    "plt.clf()"
   ]
  },
  {
   "cell_type": "markdown",
   "metadata": {},
   "source": [
    "observations:\n",
    "- distplot shows that most of the data is on left part; we need to fix it such that it will be normally distributed\n",
    "- box plot shows that there are many outliers"
   ]
  },
  {
   "cell_type": "code",
   "execution_count": 12,
   "metadata": {},
   "outputs": [
    {
     "data": {
      "image/png": "[encoded data removed]",
      "text/plain": [
       "<Figure size 1080x648 with 4 Axes>"
      ]
     },
     "metadata": {
      "needs_background": "light"
     },
     "output_type": "display_data"
    },
    {
     "data": {
      "text/plain": [
       "<Figure size 432x288 with 0 Axes>"
      ]
     },
     "metadata": {},
     "output_type": "display_data"
    }
   ],
   "source": [
    "plt.figure()\n",
    "plt.subplot(221)\n",
    "TotalIncome = train['ApplicantIncome'] + train['CoapplicantIncome']\n",
    "TotalIncome.plot.box(figsize=(15,9))\n",
    "plt.subplot(222)\n",
    "sns.distplot(TotalIncome)\n",
    "plt.subplot(223)\n",
    "train['LoanAmount'].plot.box()\n",
    "\n",
    "# Need to drop NaN before sns.distplot\n",
    "df = train.dropna()\n",
    "plt.subplot(224)\n",
    "sns.distplot(df['LoanAmount'])\n",
    "plt.show()\n",
    "plt.clf()"
   ]
  },
  {
   "cell_type": "markdown",
   "metadata": {},
   "source": [
    "# Mapping features against Target variable to see the relation\n",
    "- lets map categorical, ordinal and numerical features against Target variable to see how each one is related. That will give some basis to our hypothesis"
   ]
  },
  {
   "cell_type": "code",
   "execution_count": 13,
   "metadata": {},
   "outputs": [
    {
     "data": {
      "image/png": "[encoded data removed]",
      "text/plain": [
       "<Figure size 432x288 with 1 Axes>"
      ]
     },
     "metadata": {
      "needs_background": "light"
     },
     "output_type": "display_data"
    },
    {
     "data": {
      "text/plain": [
       "<Figure size 432x288 with 0 Axes>"
      ]
     },
     "metadata": {},
     "output_type": "display_data"
    },
    {
     "data": {
      "image/png": "[encoded data removed]",
      "text/plain": [
       "<Figure size 432x288 with 1 Axes>"
      ]
     },
     "metadata": {
      "needs_background": "light"
     },
     "output_type": "display_data"
    },
    {
     "data": {
      "text/plain": [
       "<Figure size 432x288 with 0 Axes>"
      ]
     },
     "metadata": {},
     "output_type": "display_data"
    },
    {
     "data": {
      "image/png": "[encoded data removed]",
      "text/plain": [
       "<Figure size 432x288 with 1 Axes>"
      ]
     },
     "metadata": {
      "needs_background": "light"
     },
     "output_type": "display_data"
    },
    {
     "data": {
      "text/plain": [
       "<Figure size 432x288 with 0 Axes>"
      ]
     },
     "metadata": {},
     "output_type": "display_data"
    },
    {
     "data": {
      "image/png": "[encoded data removed]",
      "text/plain": [
       "<Figure size 432x288 with 1 Axes>"
      ]
     },
     "metadata": {
      "needs_background": "light"
     },
     "output_type": "display_data"
    },
    {
     "data": {
      "text/plain": [
       "<Figure size 432x288 with 0 Axes>"
      ]
     },
     "metadata": {},
     "output_type": "display_data"
    }
   ],
   "source": [
    "# Categorical features (Gender, Married, Self_Employed, Credit_History) vs target variable (Loan_Status)\n",
    "Gender = pd.crosstab(train['Gender'], train['Loan_Status']) # compute cross-tabulation\n",
    "Gender.div(Gender.sum(1), axis=0).plot(kind=\"bar\", figsize=(6,4)) # Floating element-wise division\n",
    "plt.legend(loc=\"upper center\")\n",
    "plt.show()\n",
    "plt.clf()\n",
    "\n",
    "Married = pd.crosstab(train['Married'], train['Loan_Status'])\n",
    "Married.div(Married.sum(1), axis=0).plot(kind=\"bar\", figsize=(6,4))\n",
    "plt.legend(loc=\"upper center\")\n",
    "plt.show()\n",
    "plt.clf()\n",
    "\n",
    "Self_Employed = pd.crosstab(train['Self_Employed'], train['Loan_Status'])\n",
    "Self_Employed.div(Self_Employed.sum(1), axis=0).plot(kind=\"bar\", figsize=(6,4))\n",
    "plt.legend(loc=\"upper center\")\n",
    "plt.show()\n",
    "plt.clf()\n",
    "\n",
    "Credit_History = pd.crosstab(train['Credit_History'], train['Loan_Status'])\n",
    "Credit_History.div(Credit_History.sum(1), axis=0).plot(kind='bar', figsize=(6,4))\n",
    "plt.legend(loc=\"upper center\")\n",
    "plt.show()\n",
    "plt.clf()"
   ]
  },
  {
   "cell_type": "markdown",
   "metadata": {},
   "source": [
    "Observation: \n",
    "- Male and Female proportion for loan approval is moreover same\n",
    "- Married people have a little higher percentage of approval\n",
    "- Self Employed does not have much impact\n",
    "- Having clean Credit history shows very high impact on approval rate "
   ]
  },
  {
   "cell_type": "code",
   "execution_count": 14,
   "metadata": {},
   "outputs": [
    {
     "data": {
      "image/png": "[encoded data removed]",
      "text/plain": [
       "<Figure size 432x288 with 1 Axes>"
      ]
     },
     "metadata": {
      "needs_background": "light"
     },
     "output_type": "display_data"
    },
    {
     "data": {
      "image/png": "[encoded data removed]",
      "text/plain": [
       "<Figure size 432x288 with 1 Axes>"
      ]
     },
     "metadata": {
      "needs_background": "light"
     },
     "output_type": "display_data"
    },
    {
     "data": {
      "text/plain": [
       "<Figure size 432x288 with 0 Axes>"
      ]
     },
     "metadata": {},
     "output_type": "display_data"
    }
   ],
   "source": [
    "# ordinal features (Dependents, Education, Property_Area) vs Target variable (Loan_Status)\n",
    "Dependents = pd.crosstab(train['Dependents'], train['Loan_Status'])\n",
    "Dependents.div(Dependents.sum(1), axis=0).plot(kind=\"bar\")\n",
    "plt.legend(loc=\"lower left\")\n",
    "\n",
    "Education = pd.crosstab(train['Education'], train['Loan_Status'])\n",
    "Education.div(Education.sum(1), axis=0).plot(kind=\"bar\")\n",
    "\n",
    "Property_Area = pd.crosstab(train['Property_Area'], train['Loan_Status'])\n",
    "Property_Area.div(Property_Area.sum(1), axis=0).plot(kind=\"bar\")\n",
    "plt.legend(loc='lower left')\n",
    "plt.clf()"
   ]
  },
  {
   "cell_type": "markdown",
   "metadata": {},
   "source": [
    "Observations:\n",
    "- Dependents doesn't shows major impact on loan approval rate\n",
    "- Graduates have higher rate of approval\n",
    "- Semi urban locations shows up better rate of approval"
   ]
  },
  {
   "cell_type": "code",
   "execution_count": 15,
   "metadata": {},
   "outputs": [
    {
     "data": {
      "text/plain": [
       "<matplotlib.axes._subplots.AxesSubplot at 0xe01cd10>"
      ]
     },
     "execution_count": 15,
     "metadata": {},
     "output_type": "execute_result"
    },
    {
     "data": {
      "image/png": "[encoded data removed]",
      "text/plain": [
       "<Figure size 432x288 with 1 Axes>"
      ]
     },
     "metadata": {
      "needs_background": "light"
     },
     "output_type": "display_data"
    }
   ],
   "source": [
    "# numerical features (ApplicantIncome, CoapplicantIncome, LoanAmount, Loan_Amount_Term) vs Target variable (Loan_Status)\n",
    "# lets make bins for ApplicantIncome; check some quick stats for ApplicantIncome ranges\n",
    "\"\"\"print(\n",
    "    max(train['ApplicantIncome']),\n",
    "    train[train['ApplicantIncome']<2500]['ApplicantIncome'].count(),\n",
    "    train[(train['ApplicantIncome']>2500) & (train['ApplicantIncome']<4000)]['ApplicantIncome'].count(),\n",
    "    train[(train['ApplicantIncome']>4000) & (train['ApplicantIncome']<6000)]['ApplicantIncome'].count(),\n",
    "    train[train['ApplicantIncome']<6000]['ApplicantIncome'].count()\n",
    ")\n",
    "\"\"\"\n",
    "bins = [0,2500,4000,6000,81000]\n",
    "group = ['Low', 'Average', 'High', 'Very High']\n",
    "df = train.dropna()\n",
    "train['Income_Bin'] = pd.cut(df['ApplicantIncome'], bins, labels=group)\n",
    "Income_Bin = pd.crosstab(train['Income_Bin'], train['Loan_Status'])\n",
    "Income_Bin.div(Income_Bin.sum(1), axis=0).plot(kind=\"bar\")"
   ]
  },
  {
   "cell_type": "markdown",
   "metadata": {},
   "source": [
    "Observation: Income levels does not show varied impact here, lets try to add up CoapplicantIncome"
   ]
  },
  {
   "cell_type": "code",
   "execution_count": 16,
   "metadata": {},
   "outputs": [
    {
     "data": {
      "text/plain": [
       "Text(0, 0.5, 'Loan Approval Percentage')"
      ]
     },
     "execution_count": 16,
     "metadata": {},
     "output_type": "execute_result"
    },
    {
     "data": {
      "image/png": "[encoded data removed]",
      "text/plain": [
       "<Figure size 432x288 with 1 Axes>"
      ]
     },
     "metadata": {
      "needs_background": "light"
     },
     "output_type": "display_data"
    }
   ],
   "source": [
    "train['Total_Income'] = pd.cut( (df['ApplicantIncome'] + df['CoapplicantIncome']) , bins, labels=group)\n",
    "Total_Income_Bin = pd.crosstab(train['Total_Income'], train['Loan_Status'])\n",
    "Total_Income_Bin.div(Total_Income_Bin.sum(1), axis=0).plot(kind=\"bar\")\n",
    "plt.legend(loc=\"lower left\")\n",
    "plt.xlabel(\"Total Income\")\n",
    "plt.ylabel(\"Loan Approval Percentage\")"
   ]
  },
  {
   "cell_type": "markdown",
   "metadata": {},
   "source": [
    "Observation: The Total_Income graph shows much relevancy to our hypothesis. \n",
    "Lower income range does have higher rejection rate and 'average and above average' groups stands good chance of approval "
   ]
  },
  {
   "cell_type": "code",
   "execution_count": 17,
   "metadata": {},
   "outputs": [
    {
     "data": {
      "text/plain": [
       "<matplotlib.legend.Legend at 0xde8b6b0>"
      ]
     },
     "execution_count": 17,
     "metadata": {},
     "output_type": "execute_result"
    },
    {
     "data": {
      "image/png": "[encoded data removed]",
      "text/plain": [
       "<Figure size 432x288 with 1 Axes>"
      ]
     },
     "metadata": {
      "needs_background": "light"
     },
     "output_type": "display_data"
    }
   ],
   "source": [
    "# LoanAmount\n",
    "bins=[0,100,200,700]\n",
    "group = ['Low', 'Medium', 'High']\n",
    "train['LoanAmount_Bin'] = pd.cut(df['LoanAmount'], bins, labels=group)\n",
    "LoanAmount_Bin = pd.crosstab(train['LoanAmount_Bin'], train['Loan_Status'])\n",
    "LoanAmount_Bin.div(LoanAmount_Bin.sum(1), axis=0).plot(kind=\"bar\")\n",
    "plt.legend(loc=\"upper left\")"
   ]
  },
  {
   "cell_type": "code",
   "execution_count": 18,
   "metadata": {
    "scrolled": true
   },
   "outputs": [
    {
     "data": {
      "text/plain": [
       "<matplotlib.legend.Legend at 0xde475b0>"
      ]
     },
     "execution_count": 18,
     "metadata": {},
     "output_type": "execute_result"
    },
    {
     "data": {
      "image/png": "[encoded data removed]",
      "text/plain": [
       "<Figure size 432x288 with 1 Axes>"
      ]
     },
     "metadata": {
      "needs_background": "light"
     },
     "output_type": "display_data"
    }
   ],
   "source": [
    "# Loan_Amount_Term\n",
    "bins=[0,120,360,1000]\n",
    "group = ['Low', 'Medium', 'High']\n",
    "train['Loan_Amount_Term_Bin'] = pd.cut(df['Loan_Amount_Term'], bins, labels=group)\n",
    "Loan_Amount_Term_Bin = pd.crosstab(train['Loan_Amount_Term_Bin'], train['Loan_Status'])\n",
    "Loan_Amount_Term_Bin.div(Loan_Amount_Term_Bin.sum(1), axis=0).plot(kind=\"bar\")\n",
    "plt.legend(loc=\"upper left\")"
   ]
  },
  {
   "cell_type": "markdown",
   "metadata": {},
   "source": [
    "Observations:\n",
    "- Loan_Amount Low and Medium ranges have higher approval rates\n",
    "- Loan_Amount_Term for Low and Medium have higher approval rates too"
   ]
  },
  {
   "cell_type": "code",
   "execution_count": 19,
   "metadata": {},
   "outputs": [
    {
     "data": {
      "text/plain": [
       "50"
      ]
     },
     "execution_count": 19,
     "metadata": {},
     "output_type": "execute_result"
    }
   ],
   "source": [
    "# We saw that Credit History has the most impact on ourr target variable.\n",
    "# Lets see how many nulls we have in this column\n",
    "train['Credit_History'].isnull().sum()"
   ]
  },
  {
   "cell_type": "code",
   "execution_count": 20,
   "metadata": {},
   "outputs": [
    {
     "data": {
      "text/plain": [
       "Index(['Loan_ID', 'Gender', 'Married', 'Dependents', 'Education',\n",
       "       'Self_Employed', 'ApplicantIncome', 'CoapplicantIncome', 'LoanAmount',\n",
       "       'Loan_Amount_Term', 'Credit_History', 'Property_Area', 'Loan_Status',\n",
       "       'Income_Bin', 'Total_Income', 'LoanAmount_Bin', 'Loan_Amount_Term_Bin'],\n",
       "      dtype='object')"
      ]
     },
     "execution_count": 20,
     "metadata": {},
     "output_type": "execute_result"
    }
   ],
   "source": [
    "train.columns"
   ]
  },
  {
   "cell_type": "code",
   "execution_count": 21,
   "metadata": {},
   "outputs": [
    {
     "data": {
      "image/png": "[encoded data removed]",
      "text/plain": [
       "<Figure size 432x288 with 1 Axes>"
      ]
     },
     "metadata": {
      "needs_background": "light"
     },
     "output_type": "display_data"
    },
    {
     "data": {
      "text/plain": [
       "<Figure size 432x288 with 0 Axes>"
      ]
     },
     "metadata": {},
     "output_type": "display_data"
    },
    {
     "data": {
      "image/png": "[encoded data removed]",
      "text/plain": [
       "<Figure size 432x288 with 1 Axes>"
      ]
     },
     "metadata": {
      "needs_background": "light"
     },
     "output_type": "display_data"
    },
    {
     "data": {
      "text/plain": [
       "<Figure size 432x288 with 0 Axes>"
      ]
     },
     "metadata": {},
     "output_type": "display_data"
    },
    {
     "data": {
      "image/png": "[encoded data removed]",
      "text/plain": [
       "<Figure size 432x288 with 1 Axes>"
      ]
     },
     "metadata": {
      "needs_background": "light"
     },
     "output_type": "display_data"
    },
    {
     "data": {
      "text/plain": [
       "<Figure size 432x288 with 0 Axes>"
      ]
     },
     "metadata": {},
     "output_type": "display_data"
    },
    {
     "data": {
      "image/png": "[encoded data removed]",
      "text/plain": [
       "<Figure size 432x288 with 1 Axes>"
      ]
     },
     "metadata": {
      "needs_background": "light"
     },
     "output_type": "display_data"
    },
    {
     "data": {
      "text/plain": [
       "<Figure size 432x288 with 0 Axes>"
      ]
     },
     "metadata": {},
     "output_type": "display_data"
    },
    {
     "data": {
      "image/png": "[encoded data removed]",
      "text/plain": [
       "<Figure size 432x288 with 1 Axes>"
      ]
     },
     "metadata": {
      "needs_background": "light"
     },
     "output_type": "display_data"
    },
    {
     "data": {
      "text/plain": [
       "<matplotlib.axes._subplots.AxesSubplot at 0xe38d430>"
      ]
     },
     "execution_count": 21,
     "metadata": {},
     "output_type": "execute_result"
    },
    {
     "data": {
      "text/plain": [
       "<Figure size 432x288 with 0 Axes>"
      ]
     },
     "metadata": {},
     "output_type": "display_data"
    },
    {
     "data": {
      "image/png": "[encoded data removed]",
      "text/plain": [
       "<Figure size 432x288 with 1 Axes>"
      ]
     },
     "metadata": {
      "needs_background": "light"
     },
     "output_type": "display_data"
    },
    {
     "data": {
      "image/png": "[encoded data removed]",
      "text/plain": [
       "<Figure size 432x288 with 1 Axes>"
      ]
     },
     "metadata": {
      "needs_background": "light"
     },
     "output_type": "display_data"
    }
   ],
   "source": [
    "# Let's see how Credit_History is dependent on below factors (try ti find multicolinearity): \n",
    "# Gender, Married, Dependents, Education, Self_Employed, ApplicantIncome, CoapplicantIncome\n",
    "# This will help us predict better Credit_History and in turn better Loan_Status\n",
    "\n",
    "Gender = pd.crosstab(train['Gender'], train['Credit_History']) # compute cross-tabulation\n",
    "Gender.div(Gender.sum(1), axis=0).plot(kind=\"bar\", figsize=(6,4)) # Floating element-wise division\n",
    "plt.legend(loc=\"upper center\")\n",
    "plt.show()\n",
    "plt.clf()\n",
    "\n",
    "Married = pd.crosstab(train['Married'], train['Credit_History'])\n",
    "Married.div(Married.sum(1), axis=0).plot(kind=\"bar\", figsize=(6,4))\n",
    "plt.legend(loc=\"upper center\")\n",
    "plt.show()\n",
    "plt.clf()\n",
    "\n",
    "Dependents = pd.crosstab(train['Dependents'], train['Credit_History'])\n",
    "Dependents.div(Dependents.sum(1), axis=0).plot(kind='bar', figsize=(6,4))\n",
    "plt.legend(loc=\"upper center\")\n",
    "plt.show()\n",
    "plt.clf()\n",
    "\n",
    "Education = pd.crosstab(train['Education'], train['Credit_History'])\n",
    "Education.div(Education.sum(1), axis=0).plot(kind='bar', figsize=(6,4))\n",
    "plt.legend(loc=\"upper center\")\n",
    "plt.show()\n",
    "plt.clf()\n",
    "\n",
    "Self_Employed = pd.crosstab(train['Self_Employed'], train['Credit_History'])\n",
    "Self_Employed.div(Self_Employed.sum(1), axis=0).plot(kind=\"bar\", figsize=(6,4))\n",
    "plt.legend(loc=\"upper center\")\n",
    "plt.show()\n",
    "plt.clf()\n",
    "\n",
    "bins = [0,2500,4000,6000,81000]\n",
    "group = ['Low', 'Average', 'High', 'Very High']\n",
    "df = train.dropna()\n",
    "train['Income_Bin2'] = pd.cut(df['ApplicantIncome'], bins, labels=group)\n",
    "Income_Bin = pd.crosstab(train['Income_Bin2'], train['Credit_History'])\n",
    "Income_Bin.div(Income_Bin.sum(1), axis=0).plot(kind=\"bar\")\n",
    "\n",
    "bins = [0,2500,4000,6000,81000]\n",
    "group = ['Low', 'Average', 'High', 'Very High']\n",
    "df = train.dropna()\n",
    "train['Income_Bin3'] = pd.cut(df['CoapplicantIncome'], bins, labels=group)\n",
    "Income_Bin = pd.crosstab(train['Income_Bin2'], train['Credit_History'])\n",
    "Income_Bin.div(Income_Bin.sum(1), axis=0).plot(kind=\"bar\")"
   ]
  },
  {
   "cell_type": "code",
   "execution_count": 22,
   "metadata": {},
   "outputs": [],
   "source": [
    "# drop the bins we created for understaning stats\n",
    "train.columns\n",
    "train.drop(['Income_Bin','Income_Bin2','Income_Bin3', 'Total_Income','LoanAmount_Bin','Loan_Amount_Term_Bin'], axis=1, inplace=True)\n",
    "\n",
    "# replace Dependents \"3+\" to \"3\" in train and test both\n",
    "train['Dependents'].replace('3+', '3', inplace=True)\n",
    "test['Dependents'].replace('3+', '3', inplace=True)\n",
    "# map Loan_Status to numbers\n",
    "train['Loan_Status'].replace('Y', '1', inplace=True)\n",
    "train['Loan_Status'].replace('N', '0', inplace=True)"
   ]
  },
  {
   "cell_type": "code",
   "execution_count": 23,
   "metadata": {},
   "outputs": [
    {
     "data": {
      "text/plain": [
       "<matplotlib.axes._subplots.AxesSubplot at 0xe37bb10>"
      ]
     },
     "execution_count": 23,
     "metadata": {},
     "output_type": "execute_result"
    },
    {
     "data": {
      "image/png": "[encoded data removed]",
      "text/plain": [
       "<Figure size 432x288 with 2 Axes>"
      ]
     },
     "metadata": {
      "needs_background": "light"
     },
     "output_type": "display_data"
    }
   ],
   "source": [
    "# heat map to visualize the correlation between all numerical features.\n",
    "matrix = train.corr() # compute pairwise co-relation\n",
    "fig, ax = plt.subplots()\n",
    "sns.heatmap(matrix, cmap='Reds')"
   ]
  },
  {
   "cell_type": "markdown",
   "metadata": {},
   "source": [
    "Observations:\n",
    "- LoanAmount & ApplicantIncome, CoapplicantIncome are co-related\n",
    "- Credit_History & Loan_Status are co-related"
   ]
  },
  {
   "cell_type": "markdown",
   "metadata": {},
   "source": [
    "# Fixing Missing values and Outlier treatment"
   ]
  },
  {
   "cell_type": "code",
   "execution_count": 24,
   "metadata": {},
   "outputs": [
    {
     "data": {
      "text/plain": [
       "Loan_ID               0\n",
       "Gender               13\n",
       "Married               3\n",
       "Dependents           15\n",
       "Education             0\n",
       "Self_Employed        32\n",
       "ApplicantIncome       0\n",
       "CoapplicantIncome     0\n",
       "LoanAmount           22\n",
       "Loan_Amount_Term     14\n",
       "Credit_History       50\n",
       "Property_Area         0\n",
       "Loan_Status           0\n",
       "dtype: int64"
      ]
     },
     "execution_count": 24,
     "metadata": {},
     "output_type": "execute_result"
    }
   ],
   "source": [
    "# find nulls in each column\n",
    "train.isnull().sum()"
   ]
  },
  {
   "cell_type": "markdown",
   "metadata": {},
   "source": [
    "- numerical variables fill NaNs by either mean (sum/count) or median (sort & find middle value)\n",
    "- categorical variables fill Nans by mode (maximum occurences)"
   ]
  },
  {
   "cell_type": "code",
   "execution_count": 25,
   "metadata": {},
   "outputs": [],
   "source": [
    "#categorical features null treatment\n",
    "train['Gender'].fillna(train['Gender'].mode()[0], inplace=True)\n",
    "train['Married'].fillna(train['Married'].mode()[0], inplace=True)\n",
    "train['Dependents'].fillna(train['Dependents'].mode()[0], inplace=True)\n",
    "train['Self_Employed'].fillna(train['Self_Employed'].mode()[0], inplace=True)\n",
    "train['Credit_History'].fillna(train['Credit_History'].mode()[0], inplace=True)\n",
    "\n",
    "#Numerical features null treatment\n",
    "\n",
    "# Property area wise mean to replace in LoanAmount\n",
    "train[\"LoanAmount\"].fillna(train.groupby(\"Property_Area\")[\"LoanAmount\"].transform(\"mean\"), inplace=True)\n",
    "train['Loan_Amount_Term'].fillna(train['Loan_Amount_Term'].mode()[0], inplace=True) # mode seems more relevant here"
   ]
  },
  {
   "cell_type": "code",
   "execution_count": 26,
   "metadata": {},
   "outputs": [],
   "source": [
    "# replace the same in test\n",
    "#categorical features null treatment\n",
    "test['Gender'].fillna(test['Gender'].mode()[0], inplace=True)\n",
    "test['Married'].fillna(test['Married'].mode()[0], inplace=True)\n",
    "test['Dependents'].fillna(test['Dependents'].mode()[0], inplace=True)\n",
    "test['Self_Employed'].fillna(test['Self_Employed'].mode()[0], inplace=True)\n",
    "test['Credit_History'].fillna(test['Credit_History'].mode()[0], inplace=True)\n",
    "\n",
    "#Numerical features null treatment\n",
    "\n",
    "# Property area wise mean to replace in LoanAmount\n",
    "test[\"LoanAmount\"].fillna(test.groupby(\"Property_Area\")[\"LoanAmount\"].transform(\"mean\"), inplace=True)\n",
    "test['Loan_Amount_Term'].fillna(test['Loan_Amount_Term'].mode()[0], inplace=True) # mode seems more relevant here"
   ]
  },
  {
   "cell_type": "code",
   "execution_count": 27,
   "metadata": {},
   "outputs": [
    {
     "data": {
      "text/plain": [
       "Index(['Loan_ID', 'Gender', 'Married', 'Dependents', 'Education',\n",
       "       'Self_Employed', 'ApplicantIncome', 'CoapplicantIncome', 'LoanAmount',\n",
       "       'Loan_Amount_Term', 'Credit_History', 'Property_Area', 'Loan_Status'],\n",
       "      dtype='object')"
      ]
     },
     "execution_count": 27,
     "metadata": {},
     "output_type": "execute_result"
    }
   ],
   "source": [
    "train.columns"
   ]
  },
  {
   "cell_type": "code",
   "execution_count": 28,
   "metadata": {},
   "outputs": [
    {
     "data": {
      "text/plain": [
       "(Loan_ID              0\n",
       " Gender               0\n",
       " Married              0\n",
       " Dependents           0\n",
       " Education            0\n",
       " Self_Employed        0\n",
       " ApplicantIncome      0\n",
       " CoapplicantIncome    0\n",
       " LoanAmount           0\n",
       " Loan_Amount_Term     0\n",
       " Credit_History       0\n",
       " Property_Area        0\n",
       " Loan_Status          0\n",
       " dtype: int64, Loan_ID              0\n",
       " Gender               0\n",
       " Married              0\n",
       " Dependents           0\n",
       " Education            0\n",
       " Self_Employed        0\n",
       " ApplicantIncome      0\n",
       " CoapplicantIncome    0\n",
       " LoanAmount           0\n",
       " Loan_Amount_Term     0\n",
       " Credit_History       0\n",
       " Property_Area        0\n",
       " dtype: int64)"
      ]
     },
     "execution_count": 28,
     "metadata": {},
     "output_type": "execute_result"
    }
   ],
   "source": [
    "train.isnull().sum(), test.isnull().sum()"
   ]
  },
  {
   "cell_type": "code",
   "execution_count": 29,
   "metadata": {},
   "outputs": [
    {
     "data": {
      "image/png": "[encoded data removed]",
      "text/plain": [
       "<Figure size 432x288 with 1 Axes>"
      ]
     },
     "metadata": {
      "needs_background": "light"
     },
     "output_type": "display_data"
    }
   ],
   "source": [
    "# Outliers treatment - parametrization (tweaking parameters to fix probability distribution)\n",
    "\n",
    "# natural log is inverse of exponential fn; used to treat outliers / extreme values\n",
    "train['LoanAmount_log'] = np.log(train['LoanAmount'])\n",
    "train['LoanAmount_log'].hist(bins=20)\n",
    "\n",
    "# Treat test data as well\n",
    "test['LoanAmount_log'] = np.log(test['LoanAmount'])"
   ]
  },
  {
   "cell_type": "code",
   "execution_count": 30,
   "metadata": {},
   "outputs": [],
   "source": [
    "# get rid of Loan_ID variable, we dont need it for prediction\n",
    "train=train.drop('Loan_ID', axis=1)\n",
    "test=test.drop('Loan_ID', axis=1)"
   ]
  },
  {
   "cell_type": "code",
   "execution_count": 31,
   "metadata": {},
   "outputs": [],
   "source": [
    "# Sklearn models for prediction: the target variable needs to be in a separate dataset\n",
    "X = train.drop('Loan_Status', axis=1)\n",
    "y = train['Loan_Status']\n",
    "\n",
    "# lets make dummy variables for categorical features\n",
    "X = pd.get_dummies(X)\n",
    "train = pd.get_dummies(train)\n",
    "test = pd.get_dummies(test)"
   ]
  },
  {
   "cell_type": "markdown",
   "metadata": {},
   "source": [
    "# Train Test split\n",
    "we have Loan_Status in Train; so for prediction purpose, let's split Train df into 2 parts, lets call - train and validate"
   ]
  },
  {
   "cell_type": "code",
   "execution_count": 32,
   "metadata": {},
   "outputs": [],
   "source": [
    "from sklearn.model_selection import train_test_split\n",
    "x_train, x_validate, y_train, y_validate = train_test_split(X, y, test_size = 0.3)"
   ]
  },
  {
   "cell_type": "markdown",
   "metadata": {},
   "source": [
    "# Attempt 1 : Logistic Regression model\n",
    "Definition: Logistic regression is a machine learning algorithm for classification. In this algorithm, the probabilities describing the possible outcomes of a single trial are modelled using a logistic function.\n",
    "\n",
    "Advantages: Logistic regression is designed for this purpose (classification), and is most useful for understanding the influence of several independent variables on a single outcome variable.\n",
    "\n",
    "Disadvantages: Works only when the predicted variable is binary, assumes all predictors are independent of each other, and assumes data is free of missing values."
   ]
  },
  {
   "cell_type": "code",
   "execution_count": 33,
   "metadata": {},
   "outputs": [
    {
     "data": {
      "text/plain": [
       "LogisticRegression(C=1.0, class_weight=None, dual=False, fit_intercept=True,\n",
       "                   intercept_scaling=1, l1_ratio=None, max_iter=100,\n",
       "                   multi_class='warn', n_jobs=None, penalty='l2',\n",
       "                   random_state=None, solver='warn', tol=0.0001, verbose=0,\n",
       "                   warm_start=False)"
      ]
     },
     "execution_count": 33,
     "metadata": {},
     "output_type": "execute_result"
    }
   ],
   "source": [
    "# Import\n",
    "from sklearn.linear_model import LogisticRegression\n",
    "model = LogisticRegression() # Initialize\n",
    "model.fit(x_train, y_train) # fit the model with "
   ]
  },
  {
   "cell_type": "code",
   "execution_count": 34,
   "metadata": {},
   "outputs": [],
   "source": [
    "# predict the Loan_Status for validation set\n",
    "y_pred = model.predict(x_validate)"
   ]
  },
  {
   "cell_type": "code",
   "execution_count": 35,
   "metadata": {},
   "outputs": [
    {
     "data": {
      "text/plain": [
       "0.8054054054054054"
      ]
     },
     "execution_count": 35,
     "metadata": {},
     "output_type": "execute_result"
    }
   ],
   "source": [
    "# calculate accuracy of our predictions (y_pred) against real data (y_validate)\n",
    "from sklearn.metrics import accuracy_score\n",
    "accuracy_score(y_validate, y_pred)"
   ]
  },
  {
   "cell_type": "code",
   "execution_count": 36,
   "metadata": {},
   "outputs": [],
   "source": [
    "# lets predict the actual test file\n",
    "pred_test = model.predict(test)\n",
    "# add it into submission file for hackathon\n",
    "submission = pd.read_csv('sample_submission_S7jWYrJ.csv') # Read the final submission file\n",
    "submission['Loan_Status'] = pred_test # Fill the predicted target\n",
    "submission['Loan_ID'] = test_original['Loan_ID'] # Move the Loan_ID back\n",
    "submission['Loan_Status'].replace('0', 'N', inplace=True) # Convert 0 and 1 to N and Y resp; to their basic types\n",
    "submission['Loan_Status'].replace('1', 'Y', inplace=True)\n",
    "pd.DataFrame(submission, columns=['Loan_ID', 'Loan_Status']).to_csv('submission.csv')"
   ]
  },
  {
   "cell_type": "markdown",
   "metadata": {},
   "source": [
    "# Attempt 2: StratifiedKFold to split data"
   ]
  },
  {
   "cell_type": "code",
   "execution_count": 37,
   "metadata": {},
   "outputs": [
    {
     "name": "stdout",
     "output_type": "stream",
     "text": [
      "\n",
      "1 of kfold 5\n",
      "accuracy_score 0.8064516129032258\n",
      "\n",
      "2 of kfold 5\n",
      "accuracy_score 0.8064516129032258\n",
      "\n",
      "3 of kfold 5\n",
      "accuracy_score 0.8114754098360656\n",
      "\n",
      "4 of kfold 5\n",
      "accuracy_score 0.7868852459016393\n",
      "\n",
      "5 of kfold 5\n",
      "accuracy_score 0.8360655737704918\n"
     ]
    }
   ],
   "source": [
    "# Lets StratifiedKFold model to split our data to test LogisticRegression\n",
    "from sklearn.model_selection import StratifiedKFold\n",
    "\n",
    "i=1\n",
    "kf = StratifiedKFold(n_splits=5,random_state=1,shuffle=True)\n",
    "\n",
    "for train_index, test_index in kf.split(X,y):\n",
    "    print('\\n{} of kfold {}'.format(i, kf.n_splits))\n",
    "    x_train, x_validate = X.loc[train_index], X.loc[test_index]\n",
    "    y_train, y_validate = y[train_index], y[test_index]\n",
    "    \n",
    "    # Use LogisticRegression on this split\n",
    "    model2 = LogisticRegression(random_state=1)\n",
    "    model2.fit(x_train, y_train)\n",
    "    y_pred = model2.predict(x_validate)\n",
    "    score = accuracy_score(y_validate, y_pred)\n",
    "    print('accuracy_score',score)\n",
    "    i+=1"
   ]
  },
  {
   "cell_type": "markdown",
   "metadata": {},
   "source": [
    "# Attempt 3: Random Forest\n",
    "Definition: Random forest classifier is a meta-estimator that fits a number of decision trees on various sub-samples of datasets and uses average to improve the predictive accuracy of the model and controls over-fitting. The sub-sample size is always the same as the original input sample size but the samples are drawn with replacement.\n",
    "\n",
    "Advantages: Reduction in over-fitting and random forest classifier is more accurate than decision trees in most cases.\n",
    "\n",
    "Disadvantages: Slow real time prediction, difficult to implement, and complex algorithm."
   ]
  },
  {
   "cell_type": "code",
   "execution_count": 38,
   "metadata": {},
   "outputs": [
    {
     "name": "stdout",
     "output_type": "stream",
     "text": [
      "\n",
      "1 of kfold 5\n",
      "accuracy_score 0.8064516129032258\n",
      "\n",
      "2 of kfold 5\n",
      "accuracy_score 0.8064516129032258\n",
      "\n",
      "3 of kfold 5\n",
      "accuracy_score 0.8032786885245902\n",
      "\n",
      "4 of kfold 5\n",
      "accuracy_score 0.7950819672131147\n",
      "\n",
      "5 of kfold 5\n",
      "accuracy_score 0.8278688524590164\n"
     ]
    }
   ],
   "source": [
    "from sklearn.ensemble import RandomForestClassifier\n",
    "\n",
    "i=1\n",
    "kf = StratifiedKFold(n_splits=5,random_state=1,shuffle=True)\n",
    "\n",
    "for train_index, test_index in kf.split(X,y):\n",
    "    print('\\n{} of kfold {}'.format(i, kf.n_splits))\n",
    "    x_train, x_validate = X.loc[train_index], X.loc[test_index]\n",
    "    y_train, y_validate = y[train_index], y[test_index]\n",
    "    \n",
    "    model3 = RandomForestClassifier(random_state=1, max_depth=3, n_estimators=41)\n",
    "    model3.fit(x_train, y_train)\n",
    "    y_pred = model3.predict(x_validate)\n",
    "    score = accuracy_score(y_validate, y_pred)\n",
    "    print('accuracy_score', score)\n",
    "    i+=1"
   ]
  },
  {
   "cell_type": "markdown",
   "metadata": {},
   "source": [
    "# Attempt 4: MinMaxScaler pre-processing"
   ]
  },
  {
   "cell_type": "code",
   "execution_count": 39,
   "metadata": {},
   "outputs": [
    {
     "data": {
      "text/plain": [
       "0.8032786885245902"
      ]
     },
     "execution_count": 39,
     "metadata": {},
     "output_type": "execute_result"
    }
   ],
   "source": [
    "# MinMax Scaler instead of dummy variables\n",
    "from sklearn.preprocessing import MinMaxScaler\n",
    "min_max = MinMaxScaler()\n",
    "\n",
    "# Scaling down both train and test data set\n",
    "X_train_minmax = min_max.fit_transform(x_train[['ApplicantIncome', 'CoapplicantIncome',\n",
    "                'LoanAmount', 'Loan_Amount_Term', 'Credit_History']])\n",
    "X_test_minmax = min_max.fit_transform(x_validate[['ApplicantIncome', 'CoapplicantIncome',\n",
    "                'LoanAmount', 'Loan_Amount_Term', 'Credit_History']])\n",
    "\n",
    "from sklearn.neighbors import KNeighborsClassifier\n",
    "#Fitting k-NN on our scaled data set\n",
    "knn = KNeighborsClassifier(n_neighbors=10)\n",
    "knn.fit(X_train_minmax,y_train)\n",
    "# Checking the model's accuracy\n",
    "# lets predict the actual test file\n",
    "pred_test = knn.predict(X_test_minmax)\n",
    "accuracy_score(y_validate, pred_test)"
   ]
  },
  {
   "cell_type": "markdown",
   "metadata": {},
   "source": [
    "# Attempt 5"
   ]
  },
  {
   "cell_type": "code",
   "execution_count": 40,
   "metadata": {},
   "outputs": [
    {
     "data": {
      "text/plain": [
       "0.8360655737704918"
      ]
     },
     "execution_count": 40,
     "metadata": {},
     "output_type": "execute_result"
    }
   ],
   "source": [
    "# Import\n",
    "from sklearn.linear_model import LogisticRegression\n",
    "model4 = LogisticRegression() # Initialize\n",
    "model4.fit(X_train_minmax,y_train) # fit the model with \n",
    "# predict the Loan_Status for validation set\n",
    "pred_test = model4.predict(X_test_minmax)\n",
    "accuracy_score(y_validate, pred_test)"
   ]
  },
  {
   "cell_type": "code",
   "execution_count": null,
   "metadata": {},
   "outputs": [],
   "source": []
  }
 ],
 "metadata": {
  "kernelspec": {
   "display_name": "Python 3",
   "language": "python",
   "name": "python3"
  },
  "language_info": {
   "codemirror_mode": {
    "name": "ipython",
    "version": 3
   },
   "file_extension": ".py",
   "mimetype": "text/x-python",
   "name": "python",
   "nbconvert_exporter": "python",
   "pygments_lexer": "ipython3",
   "version": "3.7.3"
  }
 },
 "nbformat": 4,
 "nbformat_minor": 2
}
